{
  "cells": [
    {
      "cell_type": "markdown",
      "metadata": {
        "id": "view-in-github",
        "colab_type": "text"
      },
      "source": [
        "<a href=\"https://colab.research.google.com/github/tummosoft/B4JServer/blob/main/free_ocr_example.ipynb\" target=\"_parent\"><img src=\"https://colab.research.google.com/assets/colab-badge.svg\" alt=\"Open In Colab\"/></a>"
      ]
    },
    {
      "cell_type": "markdown",
      "source": [
        "![人工智慧 - 自由團隊](https://raw.githubusercontent.com/chenkenanalytic/img/master/af/aifreeteam.png)\n",
        "\n",
        "<center>Welcome to the free_ocr example! 歡迎使用 free_ocr 的範例程式碼！ </center>\n",
        "\n",
        "<br>\n",
        "\n",
        "<center>Github Repo: <a href=\"https://github.com/AI-FREE-Team/free-ocr\">https://github.com/AI-FREE-Team/free-ocr</a></center>\n",
        "\n",
        "<br>\n",
        "\n",
        "<center>(Author: Chen Ken；Date of published: 2024/11/19；AI . FREE Team Website: https://www.aifreeteam.com/)</center>\n",
        "<br>\n"
      ],
      "metadata": {
        "id": "pFOzHmzUC42-"
      }
    },
    {
      "cell_type": "code",
      "source": [
        "# 安裝 free_ocr 套件\n",
        "!pip install free_ocr"
      ],
      "metadata": {
        "colab": {
          "base_uri": "https://localhost:8080/"
        },
        "id": "YLGaWkoRyifd",
        "outputId": "47c1333a-01f2-41de-d2a5-a1402735b7ca"
      },
      "execution_count": null,
      "outputs": [
        {
          "output_type": "stream",
          "name": "stdout",
          "text": [
            "Collecting free_ocr\n",
            "  Downloading free_ocr-0.1.0-py3-none-any.whl.metadata (594 bytes)\n",
            "Requirement already satisfied: requests>=2.0.0 in /usr/local/lib/python3.10/dist-packages (from free_ocr) (2.32.3)\n",
            "Requirement already satisfied: charset-normalizer<4,>=2 in /usr/local/lib/python3.10/dist-packages (from requests>=2.0.0->free_ocr) (3.4.0)\n",
            "Requirement already satisfied: idna<4,>=2.5 in /usr/local/lib/python3.10/dist-packages (from requests>=2.0.0->free_ocr) (3.10)\n",
            "Requirement already satisfied: urllib3<3,>=1.21.1 in /usr/local/lib/python3.10/dist-packages (from requests>=2.0.0->free_ocr) (2.2.3)\n",
            "Requirement already satisfied: certifi>=2017.4.17 in /usr/local/lib/python3.10/dist-packages (from requests>=2.0.0->free_ocr) (2024.8.30)\n",
            "Downloading free_ocr-0.1.0-py3-none-any.whl (2.8 kB)\n",
            "Installing collected packages: free_ocr\n",
            "Successfully installed free_ocr-0.1.0\n"
          ]
        }
      ]
    },
    {
      "cell_type": "code",
      "source": [
        "# 下載 Repo\n",
        "!git clone https://github.com/AI-FREE-Team/free-ocr"
      ],
      "metadata": {
        "colab": {
          "base_uri": "https://localhost:8080/"
        },
        "id": "e2GKyeg0CCWP",
        "outputId": "e854129b-da82-4c9c-bdce-715ca1e628a7"
      },
      "execution_count": null,
      "outputs": [
        {
          "output_type": "stream",
          "name": "stdout",
          "text": [
            "Cloning into 'free-ocr'...\n",
            "remote: Enumerating objects: 47, done.\u001b[K\n",
            "remote: Counting objects: 100% (47/47), done.\u001b[K\n",
            "remote: Compressing objects: 100% (40/40), done.\u001b[K\n",
            "remote: Total 47 (delta 17), reused 0 (delta 0), pack-reused 0 (from 0)\u001b[K\n",
            "Receiving objects: 100% (47/47), 115.27 KiB | 618.00 KiB/s, done.\n",
            "Resolving deltas: 100% (17/17), done.\n"
          ]
        }
      ]
    },
    {
      "cell_type": "code",
      "source": [
        "# 導入套件\n",
        "from free_ocr import ocr\n",
        "\n",
        "# 輸入 API key\n",
        "api_key = \"your-together-api-key\"\n",
        "\n",
        "# 針對圖片進行 OCR\n",
        "result = ocr(\"https://it.mobifone.vn/wp-content/uploads/hoa-don-dien-tu-khi-lap-phai-dam-bao-day-du-cac-thong-tin.jpg\", api_key=api_key)\n",
        "\n",
        "# 查看辨識結果\n",
        "print(result)"
      ],
      "metadata": {
        "colab": {
          "base_uri": "https://localhost:8080/"
        },
        "id": "qFFOBAC2ylf2",
        "outputId": "51a17fbf-73d8-421f-a7e9-beb42c593211"
      },
      "execution_count": null,
      "outputs": [
        {
          "output_type": "stream",
          "name": "stdout",
          "text": [
            "**Trader Joe's Receipt**\n",
            "\n",
            "**Store Information**\n",
            "\n",
            "* Address: 785 Oak Grove Road, Concord, CA 94518\n",
            "* Phone Number: (925) 521-1134\n",
            "\n",
            "**Transaction Details**\n",
            "\n",
            "* Sale Transaction\n",
            "* Date: Not Specified\n",
            "* Time: Not Specified\n",
            "\n",
            "**Items Purchased**\n",
            "\n",
            "| Item | Quantity | Price |\n",
            "| --- | --- | --- |\n",
            "| Sour Cream & Onion Corn | 1 | $2.49 |\n",
            "| Sliced Whole Wheat Bread | 1 | $2.49 |\n",
            "| Rice Cakes Korean Tteok | 1 | $3.99 |\n",
            "| Squash Zucchini 1.5 lb | 1 | $2.49 |\n",
            "| Greens Kale 10 oz | 1 | $1.99 |\n",
            "| Squash Spaghetti Each | 1 | $2.49 |\n",
            "| 50% Less Salt Roasted SA | 1 | $2.99 |\n",
            "| Banana Each | 6 | $1.14 |\n",
            "| Pasta Gnocchi Pranzo | 1 | $1.99 |\n",
            "| Org Coconut Milk | 1 | $1.69 |\n",
            "| Org Yellow Mustard | 1 | $1.79 |\n",
            "| HOL Traditional Active D | 1 | $1.29 |\n",
            "\n",
            "**Subtotals and Totals**\n",
            "\n",
            "* Subtotal: $26.83\n",
            "* Balance to Pay: $25.00\n",
            "* Gift Card Tendered: $1.83\n",
            "* Total: $26.83\n",
            "\n",
            "**Payment Method**\n",
            "\n",
            "* Visa Debit\n"
          ]
        }
      ]
    }
  ],
  "metadata": {
    "colab": {
      "provenance": [],
      "include_colab_link": true
    },
    "kernelspec": {
      "display_name": "Python 3",
      "name": "python3"
    }
  },
  "nbformat": 4,
  "nbformat_minor": 0
}